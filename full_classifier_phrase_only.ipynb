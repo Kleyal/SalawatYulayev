{
 "cells": [
  {
   "cell_type": "markdown",
   "metadata": {},
   "source": [
    "# Работа с классификатором"
   ]
  },
  {
   "cell_type": "markdown",
   "metadata": {},
   "source": [
    "## Загрузка модулей"
   ]
  },
  {
   "cell_type": "code",
   "execution_count": 1,
   "metadata": {},
   "outputs": [
    {
     "name": "stdout",
     "output_type": "stream",
     "text": [
      "\u001b[33mWARNING: The directory '/.cache/pip' or its parent directory is not owned or is not writable by the current user. The cache has been disabled. Check the permissions and owner of that directory. If executing pip with sudo, you should use sudo's -H flag.\u001b[0m\n",
      "Defaulting to user installation because normal site-packages is not writeable\n",
      "Requirement already satisfied: torch in /.local/lib/python3.6/site-packages (1.10.2)\n",
      "Requirement already satisfied: dataclasses in /usr/local/lib/python3.6/dist-packages (from torch) (0.8)\n",
      "Requirement already satisfied: typing-extensions in /usr/local/lib/python3.6/dist-packages (from torch) (3.7.4.3)\n"
     ]
    }
   ],
   "source": [
    "!pip3 install torch"
   ]
  },
  {
   "cell_type": "code",
   "execution_count": 2,
   "metadata": {},
   "outputs": [
    {
     "name": "stdout",
     "output_type": "stream",
     "text": [
      "\u001b[33mWARNING: The directory '/.cache/pip' or its parent directory is not owned or is not writable by the current user. The cache has been disabled. Check the permissions and owner of that directory. If executing pip with sudo, you should use sudo's -H flag.\u001b[0m\n",
      "Defaulting to user installation because normal site-packages is not writeable\n",
      "Requirement already satisfied: transformers in /.local/lib/python3.6/site-packages (4.18.0)\n",
      "Requirement already satisfied: requests in /usr/local/lib/python3.6/dist-packages (from transformers) (2.26.0)\n",
      "Requirement already satisfied: tokenizers!=0.11.3,<0.13,>=0.11.1 in /.local/lib/python3.6/site-packages (from transformers) (0.12.1)\n",
      "Requirement already satisfied: tqdm>=4.27 in /usr/local/lib/python3.6/dist-packages (from transformers) (4.62.3)\n",
      "Requirement already satisfied: pyyaml>=5.1 in /.local/lib/python3.6/site-packages (from transformers) (6.0)\n",
      "Requirement already satisfied: numpy>=1.17 in /usr/local/lib/python3.6/dist-packages (from transformers) (1.19.5)\n",
      "Requirement already satisfied: filelock in /.local/lib/python3.6/site-packages (from transformers) (3.4.1)\n",
      "Requirement already satisfied: sacremoses in /.local/lib/python3.6/site-packages (from transformers) (0.0.53)\n",
      "Requirement already satisfied: dataclasses in /usr/local/lib/python3.6/dist-packages (from transformers) (0.8)\n",
      "Requirement already satisfied: packaging>=20.0 in /usr/local/lib/python3.6/dist-packages (from transformers) (21.0)\n",
      "Requirement already satisfied: huggingface-hub<1.0,>=0.1.0 in /.local/lib/python3.6/site-packages (from transformers) (0.4.0)\n",
      "Requirement already satisfied: importlib-metadata in /usr/local/lib/python3.6/dist-packages (from transformers) (4.6.3)\n",
      "Requirement already satisfied: regex!=2019.12.17 in /.local/lib/python3.6/site-packages (from transformers) (2022.10.31)\n",
      "Requirement already satisfied: typing-extensions>=3.7.4.3 in /usr/local/lib/python3.6/dist-packages (from huggingface-hub<1.0,>=0.1.0->transformers) (3.7.4.3)\n",
      "Requirement already satisfied: pyparsing>=2.0.2 in /usr/local/lib/python3.6/dist-packages (from packaging>=20.0->transformers) (2.4.7)\n",
      "Requirement already satisfied: zipp>=0.5 in /usr/local/lib/python3.6/dist-packages (from importlib-metadata->transformers) (3.5.0)\n",
      "Requirement already satisfied: urllib3<1.27,>=1.21.1 in /usr/local/lib/python3.6/dist-packages (from requests->transformers) (1.26.6)\n",
      "Requirement already satisfied: certifi>=2017.4.17 in /usr/local/lib/python3.6/dist-packages (from requests->transformers) (2021.5.30)\n",
      "Requirement already satisfied: idna<4,>=2.5 in /usr/lib/python3/dist-packages (from requests->transformers) (2.6)\n",
      "Requirement already satisfied: charset-normalizer~=2.0.0 in /usr/local/lib/python3.6/dist-packages (from requests->transformers) (2.0.4)\n",
      "Requirement already satisfied: joblib in /usr/local/lib/python3.6/dist-packages (from sacremoses->transformers) (1.1.0)\n",
      "Requirement already satisfied: click in /.local/lib/python3.6/site-packages (from sacremoses->transformers) (8.0.4)\n",
      "Requirement already satisfied: six in /usr/local/lib/python3.6/dist-packages (from sacremoses->transformers) (1.15.0)\n"
     ]
    }
   ],
   "source": [
    "!pip3 install transformers"
   ]
  },
  {
   "cell_type": "code",
   "execution_count": 3,
   "metadata": {},
   "outputs": [
    {
     "name": "stdout",
     "output_type": "stream",
     "text": [
      "\u001b[33mWARNING: The directory '/.cache/pip' or its parent directory is not owned or is not writable by the current user. The cache has been disabled. Check the permissions and owner of that directory. If executing pip with sudo, you should use sudo's -H flag.\u001b[0m\n",
      "Defaulting to user installation because normal site-packages is not writeable\n",
      "Requirement already satisfied: scikit-learn in /usr/local/lib/python3.6/dist-packages (0.24.2)\n",
      "Requirement already satisfied: threadpoolctl>=2.0.0 in /usr/local/lib/python3.6/dist-packages (from scikit-learn) (3.0.0)\n",
      "Requirement already satisfied: joblib>=0.11 in /usr/local/lib/python3.6/dist-packages (from scikit-learn) (1.1.0)\n",
      "Requirement already satisfied: numpy>=1.13.3 in /usr/local/lib/python3.6/dist-packages (from scikit-learn) (1.19.5)\n",
      "Requirement already satisfied: scipy>=0.19.1 in /usr/local/lib/python3.6/dist-packages (from scikit-learn) (1.5.4)\n"
     ]
    }
   ],
   "source": [
    "!pip3 install scikit-learn"
   ]
  },
  {
   "cell_type": "code",
   "execution_count": 4,
   "metadata": {},
   "outputs": [
    {
     "name": "stdout",
     "output_type": "stream",
     "text": [
      "\u001b[33mWARNING: The directory '/.cache/pip' or its parent directory is not owned or is not writable by the current user. The cache has been disabled. Check the permissions and owner of that directory. If executing pip with sudo, you should use sudo's -H flag.\u001b[0m\n",
      "Defaulting to user installation because normal site-packages is not writeable\n",
      "Requirement already satisfied: pyarrow in /.local/lib/python3.6/site-packages (6.0.1)\n",
      "Requirement already satisfied: numpy>=1.16.6 in /usr/local/lib/python3.6/dist-packages (from pyarrow) (1.19.5)\n"
     ]
    }
   ],
   "source": [
    "!pip3 install pyarrow"
   ]
  },
  {
   "cell_type": "code",
   "execution_count": 5,
   "metadata": {},
   "outputs": [],
   "source": [
    "from pathlib import Path\n",
    "import os\n",
    "os.environ[\"SENTENCE_TRANSFORMERS_HOME\"] = os.path.abspath(\"./.cache\")\n",
    "os.environ[\"TORCH_HOME\"] = os.path.abspath(\"./.cache\")\n",
    "os.environ[\"HF_HOME\"] = os.path.abspath(\"./.cache\")\n",
    "os.environ[\"HF_DATASETS_CACHE\"] = os.path.abspath(\"./.cache\")"
   ]
  },
  {
   "cell_type": "markdown",
   "metadata": {},
   "source": [
    "## Данные"
   ]
  },
  {
   "cell_type": "code",
   "execution_count": 6,
   "metadata": {},
   "outputs": [],
   "source": [
    "import pandas as pd\n",
    "import numpy as np"
   ]
  },
  {
   "cell_type": "code",
   "execution_count": 7,
   "metadata": {},
   "outputs": [],
   "source": [
    "from sklearn.metrics.pairwise import cosine_similarity\n",
    "from sklearn.metrics.pairwise import euclidean_distances"
   ]
  },
  {
   "cell_type": "code",
   "execution_count": 8,
   "metadata": {},
   "outputs": [],
   "source": [
    "data_path = \"./train2.csv\""
   ]
  },
  {
   "cell_type": "code",
   "execution_count": 9,
   "metadata": {},
   "outputs": [],
   "source": [
    "data = pd.read_csv(data_path, engine=\"python\")"
   ]
  },
  {
   "cell_type": "code",
   "execution_count": 10,
   "metadata": {},
   "outputs": [
    {
     "data": {
      "text/html": [
       "<div>\n",
       "<style scoped>\n",
       "    .dataframe tbody tr th:only-of-type {\n",
       "        vertical-align: middle;\n",
       "    }\n",
       "\n",
       "    .dataframe tbody tr th {\n",
       "        vertical-align: top;\n",
       "    }\n",
       "\n",
       "    .dataframe thead th {\n",
       "        text-align: right;\n",
       "    }\n",
       "</style>\n",
       "<table border=\"1\" class=\"dataframe\">\n",
       "  <thead>\n",
       "    <tr style=\"text-align: right;\">\n",
       "      <th></th>\n",
       "      <th>phrase</th>\n",
       "      <th>context</th>\n",
       "      <th>target</th>\n",
       "      <th>context_text</th>\n",
       "    </tr>\n",
       "  </thead>\n",
       "  <tbody>\n",
       "    <tr>\n",
       "      <th>0</th>\n",
       "      <td>ну куда пошли</td>\n",
       "      <td>[{'user': '', 'marusia': ''}, {'user': '', 'ma...</td>\n",
       "      <td>1.0</td>\n",
       "      <td></td>\n",
       "    </tr>\n",
       "    <tr>\n",
       "      <th>1</th>\n",
       "      <td>а сколько будет миллиард долларов рублей</td>\n",
       "      <td>[{'user': 'а сколько будет', 'marusia': 'Извин...</td>\n",
       "      <td>0.0</td>\n",
       "      <td>user: а сколько будет. marusia: Извините, я н...</td>\n",
       "    </tr>\n",
       "    <tr>\n",
       "      <th>2</th>\n",
       "      <td>марусь включи пожалуйста елена вальяк гипноз д...</td>\n",
       "      <td>[{'user': 'маруся через десять минут будильник...</td>\n",
       "      <td>0.0</td>\n",
       "      <td>user: маруся через десять минут будильник вкл...</td>\n",
       "    </tr>\n",
       "    <tr>\n",
       "      <th>3</th>\n",
       "      <td>да о том что я тебя очень уважаю люблю</td>\n",
       "      <td>[{'user': '', 'marusia': 'Если вам нужна помощ...</td>\n",
       "      <td>0.0</td>\n",
       "      <td>marusia: Если вам нужна помощь, я к вашим усл...</td>\n",
       "    </tr>\n",
       "    <tr>\n",
       "      <th>4</th>\n",
       "      <td>детскую песенку</td>\n",
       "      <td>[{'user': '', 'marusia': ''}, {'user': 'угадай...</td>\n",
       "      <td>0.0</td>\n",
       "      <td>user: угадай такую загадку мою загадку кто тв...</td>\n",
       "    </tr>\n",
       "    <tr>\n",
       "      <th>...</th>\n",
       "      <td>...</td>\n",
       "      <td>...</td>\n",
       "      <td>...</td>\n",
       "      <td>...</td>\n",
       "    </tr>\n",
       "    <tr>\n",
       "      <th>28899</th>\n",
       "      <td>так где мой нож</td>\n",
       "      <td>[{'user': '', 'marusia': ''}, {'user': 'ты уме...</td>\n",
       "      <td>1.0</td>\n",
       "      <td>user: ты умеешь материться. marusia: Перцептр...</td>\n",
       "    </tr>\n",
       "    <tr>\n",
       "      <th>28900</th>\n",
       "      <td>дальше</td>\n",
       "      <td>[{'user': '', 'marusia': ''}, {'user': '', 'ma...</td>\n",
       "      <td>0.0</td>\n",
       "      <td>user: включи сказку колобок. marusia: Слушаем...</td>\n",
       "    </tr>\n",
       "    <tr>\n",
       "      <th>28901</th>\n",
       "      <td>маруся я очень тебя люблю</td>\n",
       "      <td>[{'user': 'маруся очень очень я тебя люблю', '...</td>\n",
       "      <td>0.0</td>\n",
       "      <td>user: маруся очень очень я тебя люблю. marusi...</td>\n",
       "    </tr>\n",
       "    <tr>\n",
       "      <th>28902</th>\n",
       "      <td>голову вас зафиксировала камера</td>\n",
       "      <td>[{'user': '', 'marusia': ''}, {'user': 'ну дав...</td>\n",
       "      <td>1.0</td>\n",
       "      <td>user: ну давай. marusia: Вы на что намекаете?.</td>\n",
       "    </tr>\n",
       "    <tr>\n",
       "      <th>28903</th>\n",
       "      <td>что представляем</td>\n",
       "      <td>[{'user': 'ты вообще не можешь', 'marusia': 'В...</td>\n",
       "      <td>0.0</td>\n",
       "      <td>user: ты вообще не можешь. marusia: Вы что! я...</td>\n",
       "    </tr>\n",
       "  </tbody>\n",
       "</table>\n",
       "<p>28904 rows × 4 columns</p>\n",
       "</div>"
      ],
      "text/plain": [
       "                                                  phrase  \\\n",
       "0                                          ну куда пошли   \n",
       "1               а сколько будет миллиард долларов рублей   \n",
       "2      марусь включи пожалуйста елена вальяк гипноз д...   \n",
       "3                 да о том что я тебя очень уважаю люблю   \n",
       "4                                        детскую песенку   \n",
       "...                                                  ...   \n",
       "28899                                    так где мой нож   \n",
       "28900                                             дальше   \n",
       "28901                          маруся я очень тебя люблю   \n",
       "28902                    голову вас зафиксировала камера   \n",
       "28903                                   что представляем   \n",
       "\n",
       "                                                 context  target  \\\n",
       "0      [{'user': '', 'marusia': ''}, {'user': '', 'ma...     1.0   \n",
       "1      [{'user': 'а сколько будет', 'marusia': 'Извин...     0.0   \n",
       "2      [{'user': 'маруся через десять минут будильник...     0.0   \n",
       "3      [{'user': '', 'marusia': 'Если вам нужна помощ...     0.0   \n",
       "4      [{'user': '', 'marusia': ''}, {'user': 'угадай...     0.0   \n",
       "...                                                  ...     ...   \n",
       "28899  [{'user': '', 'marusia': ''}, {'user': 'ты уме...     1.0   \n",
       "28900  [{'user': '', 'marusia': ''}, {'user': '', 'ma...     0.0   \n",
       "28901  [{'user': 'маруся очень очень я тебя люблю', '...     0.0   \n",
       "28902  [{'user': '', 'marusia': ''}, {'user': 'ну дав...     1.0   \n",
       "28903  [{'user': 'ты вообще не можешь', 'marusia': 'В...     0.0   \n",
       "\n",
       "                                            context_text  \n",
       "0                                                         \n",
       "1       user: а сколько будет. marusia: Извините, я н...  \n",
       "2       user: маруся через десять минут будильник вкл...  \n",
       "3       marusia: Если вам нужна помощь, я к вашим усл...  \n",
       "4       user: угадай такую загадку мою загадку кто тв...  \n",
       "...                                                  ...  \n",
       "28899   user: ты умеешь материться. marusia: Перцептр...  \n",
       "28900   user: включи сказку колобок. marusia: Слушаем...  \n",
       "28901   user: маруся очень очень я тебя люблю. marusi...  \n",
       "28902    user: ну давай. marusia: Вы на что намекаете?.   \n",
       "28903   user: ты вообще не можешь. marusia: Вы что! я...  \n",
       "\n",
       "[28904 rows x 4 columns]"
      ]
     },
     "execution_count": 10,
     "metadata": {},
     "output_type": "execute_result"
    }
   ],
   "source": [
    "data"
   ]
  },
  {
   "cell_type": "code",
   "execution_count": 11,
   "metadata": {},
   "outputs": [],
   "source": [
    "data['context_text'].fillna('', inplace=True)\n",
    "data['phrase'].fillna('', inplace=True)\n",
    "data['target'].fillna(0.0, inplace=True)"
   ]
  },
  {
   "cell_type": "code",
   "execution_count": 12,
   "metadata": {},
   "outputs": [],
   "source": [
    "from transformers import AutoModel, AutoTokenizer\n",
    "from tqdm import tqdm as tqdm\n",
    "\n",
    "import transformers\n",
    "#transformers.utils.logging.disable_progress_bar()"
   ]
  },
  {
   "cell_type": "code",
   "execution_count": 13,
   "metadata": {},
   "outputs": [],
   "source": [
    "import torch\n",
    "device = 'cuda' if torch.cuda.is_available() else 'cpu'\n",
    "torch.cuda.empty_cache()"
   ]
  },
  {
   "cell_type": "code",
   "execution_count": 14,
   "metadata": {},
   "outputs": [
    {
     "name": "stderr",
     "output_type": "stream",
     "text": [
      "Some weights of the model checkpoint at DeepPavlov/distilrubert-base-cased-conversational were not used when initializing DistilBertModel: ['vocab_transform.weight', 'vocab_transform.bias', 'vocab_layer_norm.bias', 'vocab_projector.weight', 'vocab_layer_norm.weight', 'vocab_projector.bias']\n",
      "- This IS expected if you are initializing DistilBertModel from the checkpoint of a model trained on another task or with another architecture (e.g. initializing a BertForSequenceClassification model from a BertForPreTraining model).\n",
      "- This IS NOT expected if you are initializing DistilBertModel from the checkpoint of a model that you expect to be exactly identical (initializing a BertForSequenceClassification model from a BertForSequenceClassification model).\n"
     ]
    }
   ],
   "source": [
    "# \"sberbank-ai/ruRoberta-large\"\n",
    "# \"DeepPavlov/distilrubert-base-cased-conversational\"\n",
    "# \"xlm-roberta-base\"\n",
    "model_name = \"DeepPavlov/distilrubert-base-cased-conversational\"\n",
    "main_model = AutoModel.from_pretrained(model_name)\n",
    "main_tokenizer = AutoTokenizer.from_pretrained(model_name, model_max_length=512)"
   ]
  },
  {
   "cell_type": "code",
   "execution_count": 15,
   "metadata": {},
   "outputs": [],
   "source": [
    "main_model = main_model.to(device)"
   ]
  },
  {
   "cell_type": "code",
   "execution_count": 16,
   "metadata": {},
   "outputs": [],
   "source": [
    "hid_size = 768"
   ]
  },
  {
   "cell_type": "markdown",
   "metadata": {},
   "source": [
    "## Обучение"
   ]
  },
  {
   "cell_type": "code",
   "execution_count": 17,
   "metadata": {},
   "outputs": [
    {
     "name": "stderr",
     "output_type": "stream",
     "text": [
      "Matplotlib created a temporary config/cache directory at /tmp/matplotlib-7iau3m8b because the default path (/.config/matplotlib) is not a writable directory; it is highly recommended to set the MPLCONFIGDIR environment variable to a writable directory, in particular to speed up the import of Matplotlib and to better support multiprocessing.\n"
     ]
    }
   ],
   "source": [
    "from torch.utils.data import TensorDataset, Dataset, DataLoader\n",
    "from sklearn.metrics import roc_auc_score, f1_score\n",
    "\n",
    "from IPython.display import clear_output\n",
    "import matplotlib.pyplot as plt"
   ]
  },
  {
   "cell_type": "code",
   "execution_count": 18,
   "metadata": {},
   "outputs": [],
   "source": [
    "from sklearn.model_selection import train_test_split"
   ]
  },
  {
   "cell_type": "code",
   "execution_count": 19,
   "metadata": {},
   "outputs": [],
   "source": [
    "train_context_text, test_context_text, train_phrase, test_phrase, train_target, test_target = train_test_split(\n",
    "    data['context_text'].tolist(),\n",
    "    data['phrase'].tolist(),\n",
    "    torch.tensor(data['target'].to_numpy(), dtype=torch.float32).to(device),\n",
    "    test_size=0.25,\n",
    "    random_state=42,\n",
    ")"
   ]
  },
  {
   "cell_type": "code",
   "execution_count": 20,
   "metadata": {},
   "outputs": [
    {
     "data": {
      "text/plain": [
       "' user: извини ты на меня всегда извиняешься. marusia: Я прощу все!. user: нет. marusia: Поняла. user: пожалуйста. marusia: Ах, как же я люблю вежливых людей!. user: пожалуйста извини меня. marusia: Да ничего страшного. user: да маруся просто скажи извини все. marusia: Я прощу все!. '"
      ]
     },
     "execution_count": 20,
     "metadata": {},
     "output_type": "execute_result"
    }
   ],
   "source": [
    "train_context_text[4242]"
   ]
  },
  {
   "cell_type": "code",
   "execution_count": 21,
   "metadata": {},
   "outputs": [],
   "source": [
    "class ContextPhraseDataset(Dataset):\n",
    "    def __init__(self, contexts, phrases, targets):\n",
    "        assert len(contexts) == len(phrases) == len(targets)\n",
    "        \n",
    "        self.contexts = contexts\n",
    "        self.phrases = phrases\n",
    "        self.targets = targets\n",
    "        \n",
    "        \n",
    "    def __len__(self):\n",
    "        return len(self.targets)\n",
    "    \n",
    "\n",
    "    def __getitem__(self, idx):\n",
    "        return self.contexts[idx], self.phrases[idx], self.targets[idx]"
   ]
  },
  {
   "cell_type": "code",
   "execution_count": 22,
   "metadata": {},
   "outputs": [],
   "source": [
    "# Train\n",
    "train_dataset = ContextPhraseDataset(train_context_text, train_phrase, train_target)\n",
    "train_dataloader = DataLoader(train_dataset, batch_size=32, shuffle=True)\n",
    "\n",
    "# Test\n",
    "test_dataset = ContextPhraseDataset(test_context_text, test_phrase, test_target)\n",
    "test_dataloader = DataLoader(test_dataset, batch_size=128, shuffle=False)"
   ]
  },
  {
   "cell_type": "code",
   "execution_count": 23,
   "metadata": {},
   "outputs": [],
   "source": [
    "def inference_on_texts(tokenizer, model, dataloader, only_phrase=True):\n",
    "    full_proba = []\n",
    "    full_y = []\n",
    "    \n",
    "    with torch.no_grad():\n",
    "        for batch in tqdm(dataloader):\n",
    "            context, phrase, y = batch\n",
    "            full_y.append(y.cpu().detach().numpy())\n",
    "            \n",
    "            context = list(context)\n",
    "            phrase = list(phrase)\n",
    "            \n",
    "            phrase_tokens = tokenizer(phrase, padding=True, truncation='only_first',\n",
    "                                      return_tensors=\"pt\").to(device)\n",
    "            \n",
    "            if only_phrase:\n",
    "                full_proba.append(model(phrase_tokens).cpu().detach().numpy())\n",
    "            else:\n",
    "                context_tokens = tokenizer(context, padding=True, truncation='only_first',\n",
    "                                       return_tensors=\"pt\").to(device)\n",
    "                \n",
    "                full_proba.append(model(context_tokens, phrase_tokens).cpu().detach().numpy())\n",
    "            \n",
    "    full_proba = np.concatenate(full_proba)\n",
    "    full_y = np.concatenate(full_y).astype(np.int32)\n",
    "            \n",
    "    return full_proba, full_y"
   ]
  },
  {
   "cell_type": "code",
   "execution_count": 29,
   "metadata": {},
   "outputs": [],
   "source": [
    "class PhraseModel(torch.nn.Module):\n",
    "    def __init__(self, language_model, hid_size):\n",
    "        super().__init__()\n",
    "        \n",
    "        self.language_model = language_model\n",
    "        self.linear_1 = torch.nn.Linear(hid_size, hid_size)\n",
    "        self.linear_2 = torch.nn.Linear(hid_size, 1)\n",
    "        \n",
    "        self.leaky_relu = torch.nn.LeakyReLU()\n",
    "        self.activation = torch.nn.Sigmoid()\n",
    "        \n",
    "    def forward(self, phrase_tokens):        \n",
    "        phrase_embeddings = self.language_model(**phrase_tokens)[\"last_hidden_state\"][:,-1,:]\n",
    "        \n",
    "        x = phrase_embeddings\n",
    "        x = self.linear_1(x)\n",
    "        x = self.leaky_relu(x)\n",
    "        x = self.linear_2(x)\n",
    "        \n",
    "        return self.activation(torch.squeeze(x))"
   ]
  },
  {
   "cell_type": "code",
   "execution_count": 30,
   "metadata": {},
   "outputs": [],
   "source": [
    "phrase_model = PhraseModel(main_model, hid_size).to(device)"
   ]
  },
  {
   "cell_type": "code",
   "execution_count": 31,
   "metadata": {},
   "outputs": [],
   "source": [
    "for params in main_model.parameters():\n",
    "    params.requires_grad = True"
   ]
  },
  {
   "cell_type": "code",
   "execution_count": 32,
   "metadata": {},
   "outputs": [],
   "source": [
    "loss = torch.nn.BCELoss()\n",
    "opt = torch.optim.Adam(phrase_model.parameters(), lr=1e-6)"
   ]
  },
  {
   "cell_type": "code",
   "execution_count": 33,
   "metadata": {},
   "outputs": [
    {
     "data": {
      "image/png": "[encoded data removed]",
      "text/plain": [
       "<Figure size 864x288 with 3 Axes>"
      ]
     },
     "metadata": {
      "needs_background": "light"
     },
     "output_type": "display_data"
    },
    {
     "name": "stdout",
     "output_type": "stream",
     "text": [
      "Mean loss=0.366\n"
     ]
    }
   ],
   "source": [
    "metrics = {'train_loss': [], 'roc_auc': [], 'f1_score': []}\n",
    "n_epochs = 10\n",
    "\n",
    "for epoch in range(1, n_epochs+1):\n",
    "    avg_loss = 0.0\n",
    "    for index, batch in enumerate(tqdm(train_dataloader)):\n",
    "        context, phrase, y = batch\n",
    "        context = list(context)\n",
    "        phrase = list(phrase)\n",
    "        #context_tokens = main_tokenizer(context, padding=True, truncation='only_first',\n",
    "        #                                return_tensors=\"pt\").to(device)\n",
    "        phrase_tokens = main_tokenizer(phrase, padding=True, truncation='only_first',\n",
    "                                       return_tensors=\"pt\").to(device)\n",
    "        proba = phrase_model(phrase_tokens)\n",
    "\n",
    "        del phrase_tokens\n",
    "        loss_t = loss(input=proba, target=y)\n",
    "\n",
    "        opt.zero_grad()\n",
    "        loss_t.backward()\n",
    "        opt.step()\n",
    "\n",
    "        avg_loss += loss_t.item()\n",
    "\n",
    "    avg_loss /= index\n",
    "    metrics['train_loss'].append((epoch, avg_loss))\n",
    "\n",
    "    if True: #epoch % 5 == 0:\n",
    "        full_proba, full_y = inference_on_texts(main_tokenizer, phrase_model, test_dataloader)\n",
    "        \n",
    "        metrics['roc_auc'].append((epoch, roc_auc_score(full_y, full_proba)))\n",
    "        metrics['f1_score'].append((epoch, f1_score(full_y, full_proba > 0.15)))\n",
    "\n",
    "        clear_output(True)\n",
    "        plt.figure(figsize=(12,4))\n",
    "        for i, (name, history) in enumerate(sorted(metrics.items())):\n",
    "            plt.subplot(1, len(metrics), i + 1)\n",
    "            plt.title(name)\n",
    "            plt.plot(*zip(*history))\n",
    "            plt.grid()\n",
    "        plt.show()\n",
    "        print(\"Mean loss=%.3f\" % np.mean(metrics['train_loss'][-1:], axis=0)[1], flush=True)"
   ]
  },
  {
   "cell_type": "code",
   "execution_count": null,
   "metadata": {},
   "outputs": [],
   "source": []
  }
 ],
 "metadata": {
  "kernelspec": {
   "display_name": "Python 3",
   "language": "python",
   "name": "python3"
  },
  "language_info": {
   "codemirror_mode": {
    "name": "ipython",
    "version": 3
   },
   "file_extension": ".py",
   "mimetype": "text/x-python",
   "name": "python",
   "nbconvert_exporter": "python",
   "pygments_lexer": "ipython3",
   "version": "3.6.9"
  }
 },
 "nbformat": 4,
 "nbformat_minor": 2
}
